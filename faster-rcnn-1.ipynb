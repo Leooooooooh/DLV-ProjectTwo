{
 "cells": [
  {
   "cell_type": "code",
   "execution_count": 1,
   "metadata": {},
   "outputs": [],
   "source": [
    "import torch\n",
    "import torchvision\n",
    "import numpy as np \n",
    "import pandas as pd "
   ]
  },
  {
   "cell_type": "code",
   "execution_count": 6,
   "metadata": {},
   "outputs": [
    {
     "name": "stdout",
     "output_type": "stream",
     "text": [
      "loading annotations into memory...\n",
      "Done (t=0.11s)\n",
      "creating index...\n",
      "index created!\n",
      "[19.0, 2.0, 9.0, 21.0] Category: 10\n",
      "[29.0, 1.0, 10.0, 21.0] Category: 1\n"
     ]
    }
   ],
   "source": [
    "from pycocotools.coco import COCO\n",
    "\n",
    "coco = COCO('nycu-hw2-data/train.json')\n",
    "\n",
    "# Get all image IDs\n",
    "image_ids = coco.getImgIds()\n",
    "\n",
    "# Get image info\n",
    "img = coco.loadImgs(image_ids[0])[0]\n",
    "\n",
    "# Get annotation IDs for that image\n",
    "ann_ids = coco.getAnnIds(imgIds=img['id'])\n",
    "\n",
    "# Get annotations\n",
    "annotations = coco.loadAnns(ann_ids)\n",
    "\n",
    "# Print bounding boxes\n",
    "for ann in annotations:\n",
    "    print(ann['bbox'], \"Category:\", ann['category_id'])"
   ]
  },
  {
   "cell_type": "code",
   "execution_count": null,
   "metadata": {},
   "outputs": [],
   "source": []
  },
  {
   "cell_type": "code",
   "execution_count": null,
   "metadata": {},
   "outputs": [],
   "source": [
    "from torchvision.models.detection.faster_rcnn import FastRCNNPredictor\n",
    "\n"
   ]
  }
 ],
 "metadata": {
  "kernelspec": {
   "display_name": "vision",
   "language": "python",
   "name": "python3"
  },
  "language_info": {
   "codemirror_mode": {
    "name": "ipython",
    "version": 3
   },
   "file_extension": ".py",
   "mimetype": "text/x-python",
   "name": "python",
   "nbconvert_exporter": "python",
   "pygments_lexer": "ipython3",
   "version": "3.13.2"
  }
 },
 "nbformat": 4,
 "nbformat_minor": 2
}
